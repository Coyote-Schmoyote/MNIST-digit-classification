{
  "nbformat": 4,
  "nbformat_minor": 0,
  "metadata": {
    "colab": {
      "name": "MNIST-digits-classification.ipynb",
      "provenance": [],
      "collapsed_sections": [],
      "authorship_tag": "ABX9TyOHRSNg0/37tZfsO5Ze0vU1",
      "include_colab_link": true
    },
    "kernelspec": {
      "name": "python3",
      "display_name": "Python 3"
    },
    "language_info": {
      "name": "python"
    }
  },
  "cells": [
    {
      "cell_type": "markdown",
      "metadata": {
        "id": "view-in-github",
        "colab_type": "text"
      },
      "source": [
        "<a href=\"https://colab.research.google.com/github/Coyote-Schmoyote/MNIST-digit-classification/blob/main/MNIST_digits_classification.ipynb\" target=\"_parent\"><img src=\"https://colab.research.google.com/assets/colab-badge.svg\" alt=\"Open In Colab\"/></a>"
      ]
    },
    {
      "cell_type": "markdown",
      "source": [
        "# 6. MNIST Handwritten Digit Classification\n",
        "This notebook looks into a neural network-based handwritten digit classification problem.\n",
        "\n",
        "## 1. Problem Definiton\n",
        "We are going to build a simple digit recognition and classification algorithm, using keras and simple neural network.\n",
        "\n",
        "## 2. Data\n",
        "The data used for this project is the MNIST (Modified National Institute of Standards and Technology)  dataset first released in 1999. It contains 60,000  28x28 grayscale training images and 10,000 testing images of handwritten digits. The dataset became a classical learning tool for computer vision and classification algorithms.\n",
        "\n",
        "## 3. Tools\n",
        "For this project, we are going to use `Keras`, a TensorFlow library that provides a Python interface for artificial neutal networks. The basic data structures in Keras are `layers` and `models`. After building our model, we will use `scikit-learn` library to evaluate its peroformance.\n"
      ],
      "metadata": {
        "id": "pt_e5j3bs7Zc"
      }
    },
    {
      "cell_type": "code",
      "source": [
        "# import tools\n",
        "import numpy as np\n",
        "import matplotlib.pyplot as plt\n",
        "import keras\n",
        "from keras.models import Sequential\n",
        "from keras.layers import Dense, Dropout\n",
        "from keras.utils import np_utils\n",
        "from sklearn.metrics import confusion_matrix\n",
        "import seaborn as sns"
      ],
      "metadata": {
        "id": "xy0jWm_ws-8H"
      },
      "execution_count": null,
      "outputs": []
    },
    {
      "cell_type": "markdown",
      "source": [
        "## Keras Toy Datasets\n",
        "As already mentioned, we are using MNIST handritten digit dataset. The pre-processed version of the dataset is included in  `keras.datasets`, alongside with other 6 datasets.\n",
        "> Toy datasets in Keras: https://keras.io/api/datasets\n",
        "\n"
      ],
      "metadata": {
        "id": "MGYUNNl0rsum"
      }
    },
    {
      "cell_type": "code",
      "source": [
        "# import data\n",
        "from keras.datasets import mnist\n",
        "(X_train, y_train), (X_test, y_test) = mnist.load_data()"
      ],
      "metadata": {
        "id": "jrTXDE8itO3T",
        "colab": {
          "base_uri": "https://localhost:8080/"
        },
        "outputId": "a382dd88-ef33-436b-c468-4d105080d3fc"
      },
      "execution_count": null,
      "outputs": [
        {
          "output_type": "stream",
          "name": "stdout",
          "text": [
            "Downloading data from https://storage.googleapis.com/tensorflow/tf-keras-datasets/mnist.npz\n",
            "11493376/11490434 [==============================] - 0s 0us/step\n",
            "11501568/11490434 [==============================] - 0s 0us/step\n"
          ]
        }
      ]
    },
    {
      "cell_type": "code",
      "source": [
        "print(X_train.shape, y_train.shape)\n",
        "print(X_test.shape, y_test.shape)"
      ],
      "metadata": {
        "colab": {
          "base_uri": "https://localhost:8080/"
        },
        "id": "lnD_cz3vtk-D",
        "outputId": "fc1e9aed-4ccb-441d-caa2-f20f478a1f2b"
      },
      "execution_count": null,
      "outputs": [
        {
          "output_type": "stream",
          "name": "stdout",
          "text": [
            "(60000, 28, 28) (60000,)\n",
            "(10000, 28, 28) (10000,)\n"
          ]
        }
      ]
    },
    {
      "cell_type": "markdown",
      "source": [
        "## Visualization\n",
        "First, let‘s visualize the digit samples from our dataset. "
      ],
      "metadata": {
        "id": "qToR0nFTttEw"
      }
    },
    {
      "cell_type": "code",
      "source": [
        "X_train[0]"
      ],
      "metadata": {
        "colab": {
          "base_uri": "https://localhost:8080/"
        },
        "id": "kBbxeezbs0QM",
        "outputId": "5c9443c4-ab20-483e-b9b0-6f1135b19718"
      },
      "execution_count": null,
      "outputs": [
        {
          "output_type": "execute_result",
          "data": {
            "text/plain": [
              "array([[  0,   0,   0,   0,   0,   0,   0,   0,   0,   0,   0,   0,   0,\n",
              "          0,   0,   0,   0,   0,   0,   0,   0,   0,   0,   0,   0,   0,\n",
              "          0,   0],\n",
              "       [  0,   0,   0,   0,   0,   0,   0,   0,   0,   0,   0,   0,   0,\n",
              "          0,   0,   0,   0,   0,   0,   0,   0,   0,   0,   0,   0,   0,\n",
              "          0,   0],\n",
              "       [  0,   0,   0,   0,   0,   0,   0,   0,   0,   0,   0,   0,   0,\n",
              "          0,   0,   0,   0,   0,   0,   0,   0,   0,   0,   0,   0,   0,\n",
              "          0,   0],\n",
              "       [  0,   0,   0,   0,   0,   0,   0,   0,   0,   0,   0,   0,   0,\n",
              "          0,   0,   0,   0,   0,   0,   0,   0,   0,   0,   0,   0,   0,\n",
              "          0,   0],\n",
              "       [  0,   0,   0,   0,   0,   0,   0,   0,   0,   0,   0,   0,   0,\n",
              "          0,   0,   0,   0,   0,   0,   0,   0,   0,   0,   0,   0,   0,\n",
              "          0,   0],\n",
              "       [  0,   0,   0,   0,   0,   0,   0,   0,   0,   0,   0,   0,   3,\n",
              "         18,  18,  18, 126, 136, 175,  26, 166, 255, 247, 127,   0,   0,\n",
              "          0,   0],\n",
              "       [  0,   0,   0,   0,   0,   0,   0,   0,  30,  36,  94, 154, 170,\n",
              "        253, 253, 253, 253, 253, 225, 172, 253, 242, 195,  64,   0,   0,\n",
              "          0,   0],\n",
              "       [  0,   0,   0,   0,   0,   0,   0,  49, 238, 253, 253, 253, 253,\n",
              "        253, 253, 253, 253, 251,  93,  82,  82,  56,  39,   0,   0,   0,\n",
              "          0,   0],\n",
              "       [  0,   0,   0,   0,   0,   0,   0,  18, 219, 253, 253, 253, 253,\n",
              "        253, 198, 182, 247, 241,   0,   0,   0,   0,   0,   0,   0,   0,\n",
              "          0,   0],\n",
              "       [  0,   0,   0,   0,   0,   0,   0,   0,  80, 156, 107, 253, 253,\n",
              "        205,  11,   0,  43, 154,   0,   0,   0,   0,   0,   0,   0,   0,\n",
              "          0,   0],\n",
              "       [  0,   0,   0,   0,   0,   0,   0,   0,   0,  14,   1, 154, 253,\n",
              "         90,   0,   0,   0,   0,   0,   0,   0,   0,   0,   0,   0,   0,\n",
              "          0,   0],\n",
              "       [  0,   0,   0,   0,   0,   0,   0,   0,   0,   0,   0, 139, 253,\n",
              "        190,   2,   0,   0,   0,   0,   0,   0,   0,   0,   0,   0,   0,\n",
              "          0,   0],\n",
              "       [  0,   0,   0,   0,   0,   0,   0,   0,   0,   0,   0,  11, 190,\n",
              "        253,  70,   0,   0,   0,   0,   0,   0,   0,   0,   0,   0,   0,\n",
              "          0,   0],\n",
              "       [  0,   0,   0,   0,   0,   0,   0,   0,   0,   0,   0,   0,  35,\n",
              "        241, 225, 160, 108,   1,   0,   0,   0,   0,   0,   0,   0,   0,\n",
              "          0,   0],\n",
              "       [  0,   0,   0,   0,   0,   0,   0,   0,   0,   0,   0,   0,   0,\n",
              "         81, 240, 253, 253, 119,  25,   0,   0,   0,   0,   0,   0,   0,\n",
              "          0,   0],\n",
              "       [  0,   0,   0,   0,   0,   0,   0,   0,   0,   0,   0,   0,   0,\n",
              "          0,  45, 186, 253, 253, 150,  27,   0,   0,   0,   0,   0,   0,\n",
              "          0,   0],\n",
              "       [  0,   0,   0,   0,   0,   0,   0,   0,   0,   0,   0,   0,   0,\n",
              "          0,   0,  16,  93, 252, 253, 187,   0,   0,   0,   0,   0,   0,\n",
              "          0,   0],\n",
              "       [  0,   0,   0,   0,   0,   0,   0,   0,   0,   0,   0,   0,   0,\n",
              "          0,   0,   0,   0, 249, 253, 249,  64,   0,   0,   0,   0,   0,\n",
              "          0,   0],\n",
              "       [  0,   0,   0,   0,   0,   0,   0,   0,   0,   0,   0,   0,   0,\n",
              "          0,  46, 130, 183, 253, 253, 207,   2,   0,   0,   0,   0,   0,\n",
              "          0,   0],\n",
              "       [  0,   0,   0,   0,   0,   0,   0,   0,   0,   0,   0,   0,  39,\n",
              "        148, 229, 253, 253, 253, 250, 182,   0,   0,   0,   0,   0,   0,\n",
              "          0,   0],\n",
              "       [  0,   0,   0,   0,   0,   0,   0,   0,   0,   0,  24, 114, 221,\n",
              "        253, 253, 253, 253, 201,  78,   0,   0,   0,   0,   0,   0,   0,\n",
              "          0,   0],\n",
              "       [  0,   0,   0,   0,   0,   0,   0,   0,  23,  66, 213, 253, 253,\n",
              "        253, 253, 198,  81,   2,   0,   0,   0,   0,   0,   0,   0,   0,\n",
              "          0,   0],\n",
              "       [  0,   0,   0,   0,   0,   0,  18, 171, 219, 253, 253, 253, 253,\n",
              "        195,  80,   9,   0,   0,   0,   0,   0,   0,   0,   0,   0,   0,\n",
              "          0,   0],\n",
              "       [  0,   0,   0,   0,  55, 172, 226, 253, 253, 253, 253, 244, 133,\n",
              "         11,   0,   0,   0,   0,   0,   0,   0,   0,   0,   0,   0,   0,\n",
              "          0,   0],\n",
              "       [  0,   0,   0,   0, 136, 253, 253, 253, 212, 135, 132,  16,   0,\n",
              "          0,   0,   0,   0,   0,   0,   0,   0,   0,   0,   0,   0,   0,\n",
              "          0,   0],\n",
              "       [  0,   0,   0,   0,   0,   0,   0,   0,   0,   0,   0,   0,   0,\n",
              "          0,   0,   0,   0,   0,   0,   0,   0,   0,   0,   0,   0,   0,\n",
              "          0,   0],\n",
              "       [  0,   0,   0,   0,   0,   0,   0,   0,   0,   0,   0,   0,   0,\n",
              "          0,   0,   0,   0,   0,   0,   0,   0,   0,   0,   0,   0,   0,\n",
              "          0,   0],\n",
              "       [  0,   0,   0,   0,   0,   0,   0,   0,   0,   0,   0,   0,   0,\n",
              "          0,   0,   0,   0,   0,   0,   0,   0,   0,   0,   0,   0,   0,\n",
              "          0,   0]], dtype=uint8)"
            ]
          },
          "metadata": {},
          "execution_count": 4
        }
      ]
    },
    {
      "cell_type": "markdown",
      "source": [
        "Err... So... What‘s that? Well, this is, in fact, the first image of the dataset. Or rather, it‘s *vector* representation of the image. Machines only understand images when they are converted to numbers, based on how bright each pixel is. For a grayscale image, the most dim pixels are represented as 0.0, while the brightest pixels are represented as 0.256. \n",
        "\n",
        "To disaply the actual image in a *human-friendly* way, we have several methods. One of them is to use the `matplotlib` function `imshow()`."
      ],
      "metadata": {
        "id": "0uq1rjh7uhK5"
      }
    },
    {
      "cell_type": "code",
      "source": [
        "# first, let‘s generate a random number with numpy random, so everytime we get a different image\n",
        "random_nr = np.random.randint(0, 60000)\n",
        "\n",
        "# now, let‘s use imshow() to visualize the random number from our train dataset\n",
        "plt.imshow(X_train[random_nr], cmap=\"gray\");"
      ],
      "metadata": {
        "colab": {
          "base_uri": "https://localhost:8080/",
          "height": 265
        },
        "id": "L1MgP13Ss3gI",
        "outputId": "9985d3fe-6b18-4438-ea45-fa4b9be8418e"
      },
      "execution_count": null,
      "outputs": [
        {
          "output_type": "display_data",
          "data": {
            "text/plain": [
              "<Figure size 432x288 with 1 Axes>"
            ],
            "image/png": "[encoded data removed]"
          },
          "metadata": {
            "needs_background": "light"
          }
        }
      ]
    },
    {
      "cell_type": "code",
      "source": [
        "# Let‘s visualize one example per each digit using a for loop and matplotlib subplot\n",
        "num_classes = 10\n",
        "\n",
        "# Create a subplot\n",
        "fig, ax = plt.subplots(1, num_classes, figsize=(20,20)) # 1 row, 10 columns (num_classes)\n",
        "\n",
        "# Loop through 10 classes from train dataset and add labels from test dataset\n",
        "for i in range(num_classes):\n",
        "  sample = X_train[y_train == i][0]\n",
        "  ax[i].imshow(sample, cmap=\"gray\")\n",
        "  ax[i].set_title(f\"Label:{i}\")"
      ],
      "metadata": {
        "colab": {
          "base_uri": "https://localhost:8080/",
          "height": 158
        },
        "id": "yQYKXwAntqcX",
        "outputId": "8613f452-f7d1-480f-d867-707fbe04ccdf"
      },
      "execution_count": null,
      "outputs": [
        {
          "output_type": "display_data",
          "data": {
            "text/plain": [
              "<Figure size 1440x1440 with 10 Axes>"
            ],
            "image/png": "[encoded data removed]"
          },
          "metadata": {
            "needs_background": "light"
          }
        }
      ]
    },
    {
      "cell_type": "markdown",
      "source": [
        "## Classes to categories\n",
        "Next step is to convert our 10 classes to binary categories. For example, if a model classifies a digit on an image as a number `3`, it will correspond with `1`, while other categories will be `0`, Like this:\n",
        "\n",
        "[0]  [0]  [0]  [1]  [0]  [0]  [0]  [0]  [0] [0]\n",
        "\n",
        "To convert classes to categories, we will use a numpy utility library from `keras` and its `to_categorical()` method. `to_categorical()` accepts 2 parameters. First parameter is the vector which has integers that represent the various classes in the data.The second parameter is the number of classes.  "
      ],
      "metadata": {
        "id": "NQ7eQEtAxqF9"
      }
    },
    {
      "cell_type": "code",
      "source": [
        "# encode labels\n",
        "y_train = keras.utils.np_utils.to_categorical(y_train, num_classes)\n",
        "y_test = keras.utils.np_utils.to_categorical(y_test, num_classes)"
      ],
      "metadata": {
        "id": "K51HjqTHu9OX"
      },
      "execution_count": null,
      "outputs": []
    },
    {
      "cell_type": "code",
      "source": [
        "for i in range(10):\n",
        "  print(y_train[i])"
      ],
      "metadata": {
        "colab": {
          "base_uri": "https://localhost:8080/"
        },
        "id": "NQZXhWiovK5O",
        "outputId": "a845af81-f9ad-438b-b71b-8d89fd372540"
      },
      "execution_count": null,
      "outputs": [
        {
          "output_type": "stream",
          "name": "stdout",
          "text": [
            "[0. 0. 0. 0. 0. 1. 0. 0. 0. 0.]\n",
            "[1. 0. 0. 0. 0. 0. 0. 0. 0. 0.]\n",
            "[0. 0. 0. 0. 1. 0. 0. 0. 0. 0.]\n",
            "[0. 1. 0. 0. 0. 0. 0. 0. 0. 0.]\n",
            "[0. 0. 0. 0. 0. 0. 0. 0. 0. 1.]\n",
            "[0. 0. 1. 0. 0. 0. 0. 0. 0. 0.]\n",
            "[0. 1. 0. 0. 0. 0. 0. 0. 0. 0.]\n",
            "[0. 0. 0. 1. 0. 0. 0. 0. 0. 0.]\n",
            "[0. 1. 0. 0. 0. 0. 0. 0. 0. 0.]\n",
            "[0. 0. 0. 0. 1. 0. 0. 0. 0. 0.]\n"
          ]
        }
      ]
    },
    {
      "cell_type": "markdown",
      "source": [
        "# Data pre-processing \n",
        "The next step is data preprocessing. For the machine learning algorithm to understand our data better, we need to do two things: normalize the data, and flatten it into a vector.\n",
        "\n",
        "## Feature scaling\n",
        "Feature scaling helps us make diffent variables of the dataset more uniform, and improve the performance of machine learning algorithm. This is important, because if the values of a certain feature are higher, the algorithm is very likely to interpret them as more important, than features with smaller values. For example, if we have a variable \"age\" with a range of values (15, 26, 34, 56, 61) and a variable \"height\" with a range of values (165, 172, 184, 201), the machine learning algorithm might develop bias, and treat \"height\" as more important than \"age\", because the numbers are higher. In order to void that, we need to peroform feature scaling. \n",
        "\n",
        "There are several methods to approach feature scaling:\n",
        "\n",
        "1. Standardization 標準化\n",
        "\n",
        "In standardization, we center all values around 0.\n",
        "We already did data standardization in our **breast cancer prediciton project** using `StandardScaler`.\n",
        "> Breast Cancer Prediciton Project: https://colab.research.google.com/drive/1fUQO1zeb8VZ2Cn0dJTXOxhgyjtR6UX1H \n",
        "\n",
        "2. Normalization 正規化\n",
        "\n",
        "In data normalization, all values are rescaled so they fir between 0 and 1. It is also known as Min-Max scaling. For image processing, it is more common to use normalization, so this is the approach we are going to take today as well.\n",
        "\n",
        "In image processing, normalization changes the range of pixel intensity values, and fits them in a range between 0 and 1 by dividing the image by 255 (the maximum pixel value).\n",
        "\n",
        "## Reshape data to a vector (flatten)\n",
        "\n",
        "The primary reason behind why we flatten images (multi-dimensional arrays) into 1-D array is because they take less memory, and as a result reduce the amount of time needed to train the model. There are two `numpy` methods we can choose from:\n",
        "1. `numpy.flatten()`\n",
        "\n",
        "This method flattens the array regardless of its shape, and has no required parameters.\n",
        "\n",
        "2. `numpy.reshape()`\n",
        "\n",
        "The reshape method converts an array from one shape to another shape, and takes two parameters: the array we want to reshape, and it‘s new shape as a tuple (num1, num2).\n"
      ],
      "metadata": {
        "id": "9nuUTnB8xjle"
      }
    },
    {
      "cell_type": "code",
      "source": [
        "# normalize the images\n",
        "X_train = X_train/255.0\n",
        "X_test = X_test/255.0"
      ],
      "metadata": {
        "id": "OWC6F0e_vfED"
      },
      "execution_count": null,
      "outputs": []
    },
    {
      "cell_type": "code",
      "source": [
        "# reshape data\n",
        "X_train.shape"
      ],
      "metadata": {
        "colab": {
          "base_uri": "https://localhost:8080/"
        },
        "id": "mYmzZ7k_x1aQ",
        "outputId": "0797a73d-8050-4705-9c5e-14e4be4d51e1"
      },
      "execution_count": null,
      "outputs": [
        {
          "output_type": "execute_result",
          "data": {
            "text/plain": [
              "(60000, 28, 28)"
            ]
          },
          "metadata": {},
          "execution_count": 10
        }
      ]
    },
    {
      "cell_type": "code",
      "source": [
        "X_train = X_train.reshape(X_train.shape[0], -1)\n",
        "X_test = X_test.reshape(X_test.shape[0], -1)"
      ],
      "metadata": {
        "id": "tT0D5ixxx58v"
      },
      "execution_count": null,
      "outputs": []
    },
    {
      "cell_type": "code",
      "source": [
        "X_train.shape"
      ],
      "metadata": {
        "colab": {
          "base_uri": "https://localhost:8080/"
        },
        "id": "Ts-7gTsmyFAs",
        "outputId": "f56b8a18-73bb-4345-ad4c-805294794ba1"
      },
      "execution_count": null,
      "outputs": [
        {
          "output_type": "execute_result",
          "data": {
            "text/plain": [
              "(60000, 784)"
            ]
          },
          "metadata": {},
          "execution_count": 12
        }
      ]
    },
    {
      "cell_type": "markdown",
      "source": [
        "# Fully Connected Neural Network\n",
        "Now it‘s time to build our first neural network! For this project, we will build a simple **fully connected neural network** which consists of a serious of layers in which every neuron in one layer is connected to every neuron in the other layer. The main advantage of fully connected neural networks is that they can be used for a broad range of pattern recognition tasks. Compared to more \"specialized\" artificial networks, such as CNN or RNN, however, they tend to perform worse for specific problems. \n",
        "\n",
        "## Model\n",
        "When we are building a model in Keras, we have two optins: to build a **Sequential** model, of a **Functional**  model. **Sequential** models are the most common type, and we can use it to create the models by stacking layers in a particular sequence that we choose. **Functional** models, on the other hand, are used to create models with extra flexibility, such as connecting layers to more then one previous and one next layer. In other words, it allows us to create more complex and sophisticated networks. \n",
        "\n",
        "For this project, we will create a **Sequential** model.\n",
        "\n",
        "## Layers\n",
        "There are 3 types of layers in a neural network: an ** input layer**, a **hidden layer(s)**, and an **output layer**. When we are deciding on how many layers we should build for our particular problem, we can try by experimentation, starting with a simple network that has three layers: 1 input, 1 hidden, and 1 output layer, and increase the complexity as per need. Or, alternatively, we can use some of the already exsiting neural network architectures. In our case, we will create a simple neural network with 1 input layer, 1 output layer, and 2 hidden layers: a dense and a dropout layer.\n",
        "\n",
        "### Dense layer\n",
        "Dense layer is the type of a layer in which all neurons are connected with all neurons of the previous layer. In other words, a dense layer receives the output from every single neuron of a previos layer. It is the most commonly used type of layer in a network. Behind the hood, it performs a matrix-vector multiplication, and can be used to change the dimension of the vector. At an output layer, a fully dense layer is used for classification. As the first parameter, `Dense()` layer accepts the number of neurons we want the layer to have.\n",
        "\n",
        "### Dropout Layer\n",
        "Dropout layer is used as a method of regularization 正則化 (not to be confused with normalizatoin 正規化 and standardization　標準化, which are used for data scaling at the pre-processing stage). Regularization is a method we use to reduce the generalization error and avoid overfitting. Dropout layer randomly drops nodes (neurons), and forces the neurons in previous layers to take more or less responsibilites, and thus eliminates the potential co-adaptation from previous layers, making the model sturdier.\n",
        "<img src=\"https://www.oreilly.com/library/view/machine-learning-for/9781786469878/assets/e6350249-1c35-407e-8c89-534c16b38d3b.png\" align=\"center\" width=\"500\">\n",
        "\n",
        "## Activation functions\n",
        "\n",
        "Each layer in a neural network has an activation function. At its basic level, an activation function defines how the weighted sum of the input from a previous layer is transformed and sent to a different node. In other words, it tells eas neuron how to transform the data it has, before sending it to the next neuron. The activation function we choose depends on several factors, one of the most important ones being the type of the layer. For example, it is common for hidden layers to have the same activation function. On the other hand, the output layer usually uses a different activation function from the hidden layers. Most common activation functions for the **hidden layers**:\n",
        "* ReLu \n",
        "* Sigmoid\n",
        "* Tanh \n",
        "\n",
        "The choice between these three functions would largely depend on the type of the model we are building. So, if we are building a multilayer perceptron or a CNN model, we might want to use ReLU, but if we are building an RNN, we might want to use a Sigmoid or Tanh activation functions.\n",
        "\n",
        "<img src=\"https://machinelearningmastery.com/wp-content/uploads/2020/12/How-to-Choose-an-Hidden-Layer-Activation-Function.png\" align=\"center\" width=\"500\">\n",
        "\n",
        "The most common activation functions for the **output layer** are:\n",
        "* Linear\n",
        "* Logistic (Sigmoid)\n",
        "* Softmax\n",
        "\n",
        "The choice of the output function depends on the type of the problem we are trying to solve. For regression problems, linear activation function is common. For classification problems, it depends on the classification type. If it is a binary classification with two mutually exclusive classes, we can use a sigmoid function. If we have a multiclass classification with mutually exclusive vlasses, we can use softmax. If we have a multilabel classification, where we need to predict two or more mutually inclusive classes, we have to use sigmoid.\n",
        "\n",
        "<img src=\"https://machinelearningmastery.com/wp-content/uploads/2020/12/How-to-Choose-an-Output-Layer-Activation-Function.png\" align=\"center\" width=\"500\">\n",
        "\n",
        "For our problem today, we will use **ReLU as our hidden layer activation** function, because we are dealing with images, and a **softmax activation for an output layer** , because it is a classification problem. \n",
        "\n",
        "## Loss and Optimizer functions\n",
        "\n",
        "Apart from the activation functions, we also need to decide on loss and optimizer functions, when building a neural network. Luckily, we only to need these funcitons once. Let‘s take a look at them closer.\n",
        "\n",
        "### Loss\n",
        "Loss function computes the difference between the current output and the expected output. In other words, it calculates, how wrong the prediction is. Similarly to activation functions, loss functions can be classified to 2 major categories, depending on the task: **regression and classificaiton** (binary and multiclass).\n",
        "* Regression:\n",
        " * Mean Squared Error (MSE)\n",
        " >  default loss for regression problems\n",
        " * Mean Squared Logarithmic Error Loss\n",
        " > good for predicting values that are expected to be spread out\n",
        " * Mean Absolute Error Loss\n",
        " > good for problems that are mostly Gaussian, but may have outliers\n",
        "\n",
        "* Binary Classification:\n",
        "  * Binary Cross-Entropy\n",
        "  > default loss function for binary classification\n",
        "  * Hinge Loss\n",
        "  > primary developed for Support Vector Machines (SVM)\n",
        "\n",
        "* Multi-Class Classification:\n",
        " * Multi-Class Cross-Entropy Loss\n",
        " > default loss function for multiclass classification (can belong to more than one class)\n",
        " * Categorical cross-entropy\n",
        " > each output can belong to only one class\n",
        " * Sparse Multiclass Cross-Entropy Loss\n",
        " > no need for one-hot encoding, good for problems with large number of labels\n",
        "\n",
        "For our project, we will use the **categorical cross-entropy** function, because each image can only signify one number. \n",
        "\n",
        "### Optimizer \n",
        "Optimizer helps us to correctly modify the weights of the neurons and the learning rate to reduce the loss and improve accuracy. Optimizers can be broadly divided into two categories: Gradient descent and Adaptive optimizers. The principal difference between the two groups is that for gradient descent optmizers, we need to tune the learning rate manually, while adaptive optimizers do it automatically.\n",
        "\n",
        "* Gradient Descent Optimizers:\n",
        " * Batch gradient descent\n",
        " > \"Vanilla\" gradient descent, the most basic one. Uses the entire dataset to perform each step (= very slow).\n",
        " * Stochastic gradient descent\n",
        " > Improved version of the batch gradient descent. Updates parameters of each individual example in the dataset.\n",
        " * Mini batch gradient descent\n",
        " > Updates parameters of small groups (batches) of data. Considered to be the best choice among the three\n",
        "\n",
        " * Adaptive Optimizers:\n",
        "  * Adagrad\n",
        "  > Performs small updates frequently, but tends to have too small (and even vanishing) learning rate.\n",
        "  * Adadelta\n",
        "  > Improves the problem of the vanishing learning rate\n",
        "  * RMSProp\n",
        "  > Very similar to Adadelta\n",
        "  * Adam\n",
        "  > Considered to be the best optimizer overall. Always try Adam first.\n",
        "\n",
        "For this project, we will use **Adam as our optimzier**.\n",
        "\n",
        "Okay... That was a lot of information. Now let‘s see how it all looks like in code! "
      ],
      "metadata": {
        "id": "kGBzVsH9ycqv"
      }
    },
    {
      "cell_type": "code",
      "source": [
        "#instanitiating the model\n",
        "model = Sequential()\n",
        "\n",
        "model.add(Dense(units=128, input_shape=(784, ), activation=\"relu\"))\n",
        "model.add(Dense(units=128, activation=\"relu\"))\n",
        "model.add(Dropout(0.25))\n",
        "model.add(Dense(units=10, activation=\"softmax\"))\n",
        "\n",
        "model.compile(loss=\"categorical_crossentropy\", optimizer=\"adam\", metrics=\"accuracy\")\n",
        "model.summary()"
      ],
      "metadata": {
        "colab": {
          "base_uri": "https://localhost:8080/"
        },
        "id": "h6bfVZ1TyHmM",
        "outputId": "bbf3b859-a51d-4608-aec8-586ea1122bd1"
      },
      "execution_count": null,
      "outputs": [
        {
          "output_type": "stream",
          "name": "stdout",
          "text": [
            "Model: \"sequential\"\n",
            "_________________________________________________________________\n",
            " Layer (type)                Output Shape              Param #   \n",
            "=================================================================\n",
            " dense (Dense)               (None, 128)               100480    \n",
            "                                                                 \n",
            " dense_1 (Dense)             (None, 128)               16512     \n",
            "                                                                 \n",
            " dropout (Dropout)           (None, 128)               0         \n",
            "                                                                 \n",
            " dense_2 (Dense)             (None, 10)                1290      \n",
            "                                                                 \n",
            "=================================================================\n",
            "Total params: 118,282\n",
            "Trainable params: 118,282\n",
            "Non-trainable params: 0\n",
            "_________________________________________________________________\n"
          ]
        }
      ]
    },
    {
      "cell_type": "markdown",
      "source": [
        "That‘s it! All of that text for just one cell!\n",
        "\n",
        "Now that we compiled our model, the next step is to actually fit it to our data. But before we do that, let‘s  talk about batch size and epochs."
      ],
      "metadata": {
        "id": "PDbdbGvGgXup"
      }
    },
    {
      "cell_type": "markdown",
      "source": [
        "## Batch size\n",
        "Batch size refers to the number of samples used in one iteration.\n",
        "Typically, we have 3 options to choose from.\n",
        "* Batch mode\n",
        "> Using all the data in the dataset. Has long iteration times. \n",
        "* Mini-batch mode\n",
        "> Using parts of the dataset. Faster learning than in the batch mode. Typical mini-batch sizes are 32, 64, 128, 256, and 512. The advised mini-batch size is 32. \n",
        "* Stochastic mode\n",
        "> Using one sample per iteration.\n",
        "\n",
        "We are going to use a **mini-batch mode**, and because our problem is very simple, and we will use **512 batch size**.\n",
        "\n",
        "## Epochs\n",
        "An epoch is comprised from one or multiple batches. When all data we have  has updated the internal parameters, that equals to one epoch. There are many strategies to chose the best number of epochs. Some people swear by 11 epochs. Other people give other numbers. But the best way to decide if you have too many or too little epochs is to look at the model perofrmance. If the model keeps improving, it is advisable to try a higher numebr of epochs. If the model stopped improving way before the final epoch, it is advisable to try a lower number of epochs. "
      ],
      "metadata": {
        "id": "RWzbSIcqz5bb"
      }
    },
    {
      "cell_type": "code",
      "source": [
        "# training the model \n",
        "BATCH_SIZE = 512\n",
        "epochs = 11\n",
        "model.fit(x=X_train, y=y_train, batch_size = BATCH_SIZE, epochs = epochs )"
      ],
      "metadata": {
        "colab": {
          "base_uri": "https://localhost:8080/"
        },
        "id": "WCLhuutYzm6Y",
        "outputId": "725fa9af-b30e-49b7-a367-930790f93371"
      },
      "execution_count": null,
      "outputs": [
        {
          "output_type": "stream",
          "name": "stdout",
          "text": [
            "Epoch 1/11\n",
            "118/118 [==============================] - 2s 10ms/step - loss: 0.6024 - accuracy: 0.8249\n",
            "Epoch 2/11\n",
            "118/118 [==============================] - 1s 11ms/step - loss: 0.2283 - accuracy: 0.9344\n",
            "Epoch 3/11\n",
            "118/118 [==============================] - 1s 11ms/step - loss: 0.1683 - accuracy: 0.9508\n",
            "Epoch 4/11\n",
            "118/118 [==============================] - 1s 11ms/step - loss: 0.1352 - accuracy: 0.9598\n",
            "Epoch 5/11\n",
            "118/118 [==============================] - 1s 11ms/step - loss: 0.1139 - accuracy: 0.9661\n",
            "Epoch 6/11\n",
            "118/118 [==============================] - 1s 11ms/step - loss: 0.0958 - accuracy: 0.9714\n",
            "Epoch 7/11\n",
            "118/118 [==============================] - 1s 11ms/step - loss: 0.0833 - accuracy: 0.9750\n",
            "Epoch 8/11\n",
            "118/118 [==============================] - 1s 10ms/step - loss: 0.0742 - accuracy: 0.9778\n",
            "Epoch 9/11\n",
            "118/118 [==============================] - 1s 11ms/step - loss: 0.0653 - accuracy: 0.9804\n",
            "Epoch 10/11\n",
            "118/118 [==============================] - 1s 11ms/step - loss: 0.0580 - accuracy: 0.9821\n",
            "Epoch 11/11\n",
            "118/118 [==============================] - 1s 11ms/step - loss: 0.0523 - accuracy: 0.9841\n"
          ]
        },
        {
          "output_type": "execute_result",
          "data": {
            "text/plain": [
              "<keras.callbacks.History at 0x7f233fc4db50>"
            ]
          },
          "metadata": {},
          "execution_count": 14
        }
      ]
    },
    {
      "cell_type": "markdown",
      "source": [
        "## Model evaluation\n",
        "\n",
        "Now that we have compiled and fitted our model, it is time to evaluate its performance. Since it is a classification problem, we can use the typical classification evaluation tools, such as accuracy, and loss.\n",
        "Similarly to machine learning problems, we evaluate the model on test data - the data that our algorithm hasn‘t seen yet. If we want to compare test data evaluation with train data performance, we can also see both."
      ],
      "metadata": {
        "id": "1c4b1_vT0R77"
      }
    },
    {
      "cell_type": "code",
      "source": [
        "# Evaluate train and test \n",
        "train_loss, train_acc = model.evaluate(X_train, y_train)\n",
        "test_loss, test_acc = model.evaluate(X_test, y_test)\n",
        "\n",
        "# Print results\n",
        "print(f\"Train Loss: {train_loss}, Train Accuracy: {train_acc}\")\n",
        "print(f\"Test Loss: {test_loss}, Test Accuracy: {test_acc}\")"
      ],
      "metadata": {
        "colab": {
          "base_uri": "https://localhost:8080/"
        },
        "id": "UWzMbM9uz7vS",
        "outputId": "0e174248-0764-472e-80fa-5279f8e86bfa"
      },
      "execution_count": null,
      "outputs": [
        {
          "output_type": "stream",
          "name": "stdout",
          "text": [
            "1875/1875 [==============================] - 3s 2ms/step - loss: 0.0331 - accuracy: 0.9908\n",
            "313/313 [==============================] - 1s 2ms/step - loss: 0.0743 - accuracy: 0.9769\n",
            "Train Loss: 0.033090200275182724, Train Accuracy: 0.9907666444778442\n",
            "Test Loss: 0.07433536648750305, Test Accuracy: 0.9768999814987183\n"
          ]
        }
      ]
    },
    {
      "cell_type": "markdown",
      "source": [
        "We can see that the test loss is higher than the train loss, and train accuracy is higher than test accuracy. It is good, and means that our model is performing well, and doesn‘t overfit."
      ],
      "metadata": {
        "id": "5jQ71p7ZWAwy"
      }
    },
    {
      "cell_type": "markdown",
      "source": [
        "## Make predictions\n",
        "Now that we trained and evaluated out model, let‘s try making predictions! **Softmax activation** function that we used for our **output layer** returns the predictions as a vector of probabilities. For example, \"this image is 86% likely to be number 7, and this image has a 14% probability of being number 2.\"\n"
      ],
      "metadata": {
        "id": "rLjtq4Fe0sRf"
      }
    },
    {
      "cell_type": "code",
      "source": [
        "# Predict labels on test data\n",
        "y_pred = model.predict(X_test)\n",
        "y_pred_classes = np.argmax(y_pred, axis=1) # pick the highest probability with \"np.argmax()\", and turn it into an index uing \"axis=1\"\n",
        "\n",
        "# print vector of probabilities\n",
        "print(f\"What Softmax predicted: {y_pred}\")\n",
        "\n",
        "# print predicted number\n",
        "print(f\"What Softmax actually means: {y_pred_classes}\")\n"
      ],
      "metadata": {
        "colab": {
          "base_uri": "https://localhost:8080/"
        },
        "id": "wHtdJaDd0lHD",
        "outputId": "3a7f7ed6-22ee-46b2-db4d-0de189eb6e53"
      },
      "execution_count": null,
      "outputs": [
        {
          "output_type": "stream",
          "name": "stdout",
          "text": [
            "What Softmax predicted: [[5.36795085e-07 1.75120519e-07 5.63757021e-06 ... 9.99962091e-01\n",
            "  2.75942114e-07 1.20423902e-05]\n",
            " [7.60649588e-09 2.73051905e-04 9.99599636e-01 ... 2.16265150e-07\n",
            "  4.85229123e-07 7.35167396e-12]\n",
            " [5.04052878e-06 9.97761726e-01 2.71369528e-04 ... 1.77337229e-03\n",
            "  3.77037686e-05 2.81743894e-07]\n",
            " ...\n",
            " [7.67798325e-10 7.00404346e-10 1.91848470e-09 ... 4.77213405e-07\n",
            "  4.18661330e-07 8.96024812e-06]\n",
            " [5.46414299e-07 1.61159406e-07 1.06635525e-07 ... 1.07079430e-07\n",
            "  4.04079299e-04 2.26980799e-08]\n",
            " [2.32773786e-07 5.97570882e-10 8.63580851e-08 ... 2.93837025e-12\n",
            "  2.82238677e-09 1.25498767e-09]]\n",
            "What Softmax actually means: [7 2 1 ... 4 5 6]\n"
          ]
        }
      ]
    },
    {
      "cell_type": "markdown",
      "source": [
        "Let‘s view a single random example. Because we use `random`, each time we refresh the cell, we will get a new sample."
      ],
      "metadata": {
        "id": "qNNWDkp4YJje"
      }
    },
    {
      "cell_type": "code",
      "source": [
        "# choose a random sample from all the test data\n",
        "random_num = np.random.choice(len(X_test))\n",
        "X_sample = X_test[random_num]\n",
        "\n",
        "# save true label of this sample in a variable\n",
        "y_true = np.argmax(y_test, axis=1)\n",
        "y_sample_true = y_true[random_num]\n",
        "\n",
        "# save a predicted label of this sample in a variable\n",
        "y_sample_pred_class = y_pred_classes[random_num]"
      ],
      "metadata": {
        "id": "pTN6WkkU061N"
      },
      "execution_count": null,
      "outputs": []
    },
    {
      "cell_type": "code",
      "source": [
        "# visualize\n",
        "plt.title(f\"Predicted: {y_sample_pred_class}, True:{y_sample_true}\")\n",
        "plt.imshow(X_sample.reshape(28, 28), cmap=\"gray\");"
      ],
      "metadata": {
        "colab": {
          "base_uri": "https://localhost:8080/",
          "height": 281
        },
        "id": "4F3zHrO61h9N",
        "outputId": "1af939f0-8605-4907-9a48-4b18cf874b16"
      },
      "execution_count": null,
      "outputs": [
        {
          "output_type": "display_data",
          "data": {
            "text/plain": [
              "<Figure size 432x288 with 1 Axes>"
            ],
            "image/png": "[encoded data removed]"
          },
          "metadata": {
            "needs_background": "light"
          }
        }
      ]
    },
    {
      "cell_type": "markdown",
      "source": [
        "## Confusion matrix\n",
        "Another effective way to see the accuracy of a classification model is by making a confusion matrix. In our previous project, we saw a small confusion matrix which looks like this:\n",
        "<img src=\"https://miro.medium.com/max/1051/0*oSSeidSVCEVbTs7x.png\" align=\"center\" width=\"500\">\n",
        "> Breast cancer classification: https://colab.research.google.com/drive/1fUQO1zeb8VZ2Cn0dJTXOxhgyjtR6UX1H \n",
        "\n",
        "However, this time, we have a multi-label classification problem, which means that our confusion matrix will look more complec than this."
      ],
      "metadata": {
        "id": "SUSw8xpP11UV"
      }
    },
    {
      "cell_type": "code",
      "source": [
        "# generate a confusion matrix\n",
        "confusion_mtx = confusion_matrix(y_true, y_pred_classes)\n",
        "\n",
        "# visualize confusion matrix with matplotlib and seaborn\n",
        "fig, ax = plt.subplots(figsize=(15, 10))\n",
        "ax = sns.heatmap(confusion_mtx, annot=True, fmt=\"d\", ax=ax, cmap=\"viridis\")\n",
        "ax.set_xlabel(\"Predicted Label\")\n",
        "ax.set_ylabel(\"True Label\")\n",
        "ax.set_title(\"Confusion Matrix\");"
      ],
      "metadata": {
        "colab": {
          "base_uri": "https://localhost:8080/",
          "height": 621
        },
        "id": "dz1o6W5U1zBP",
        "outputId": "52346a9d-78c6-49a2-ce9b-e2061160a137"
      },
      "execution_count": null,
      "outputs": [
        {
          "output_type": "display_data",
          "data": {
            "text/plain": [
              "<Figure size 1080x720 with 2 Axes>"
            ],
            "image/png": "[encoded data removed]"
          },
          "metadata": {
            "needs_background": "light"
          }
        }
      ]
    },
    {
      "cell_type": "markdown",
      "source": [
        "## Conclusion\n",
        "As we can see, our model performed pretty well, and the absolute majority of the labels were correct. In this notebook, we learned how to create a simple neural network, about the types of the layers, activation and loss functions, and optimizers. We also learned how to pre-process images through normalization, and how to evaluate our model after fitting it with accuracy and confusion matrix."
      ],
      "metadata": {
        "id": "QAw1TJI-anWA"
      }
    },
    {
      "cell_type": "code",
      "source": [
        ""
      ],
      "metadata": {
        "id": "bZKIdwwlbCWN"
      },
      "execution_count": null,
      "outputs": []
    }
  ]
}